{
  "nbformat": 4,
  "nbformat_minor": 0,
  "metadata": {
    "colab": {
      "provenance": [],
      "authorship_tag": "ABX9TyOIfPRZnnKqsWQQk/dsLn3c",
      "include_colab_link": true
    },
    "kernelspec": {
      "name": "python3",
      "display_name": "Python 3"
    },
    "language_info": {
      "name": "python"
    }
  },
  "cells": [
    {
      "cell_type": "markdown",
      "metadata": {
        "id": "view-in-github",
        "colab_type": "text"
      },
      "source": [
        "<a href=\"https://colab.research.google.com/github/anushriravikumar/anu/blob/main/Python_Assignment.ipynb\" target=\"_parent\"><img src=\"https://colab.research.google.com/assets/colab-badge.svg\" alt=\"Open In Colab\"/></a>"
      ]
    },
    {
      "cell_type": "code",
      "execution_count": 2,
      "metadata": {
        "colab": {
          "base_uri": "https://localhost:8080/"
        },
        "id": "gzNDL-3qEspc",
        "outputId": "ce4cd2b6-97c2-4cdf-afc0-8f11d15e384b"
      },
      "outputs": [
        {
          "output_type": "stream",
          "name": "stdout",
          "text": [
            "enter the usernameAnushri\n",
            "enter the passwordpasscode1\n",
            "login successful\n"
          ]
        }
      ],
      "source": [
        "username = input (\"enter the username\")\n",
        "password = input (\"enter the password\")\n",
        "if (username ==\"Anushri\"and password == \"passcode1\"):\n",
        "  print(\"login successful\")\n",
        "else :\n",
        "    print (\"the credential is wrong\")"
      ]
    },
    {
      "cell_type": "code",
      "source": [
        "oddnum = [i for i in range (100)if i % 3 == 0 ]\n",
        "print(oddnum)"
      ],
      "metadata": {
        "colab": {
          "base_uri": "https://localhost:8080/"
        },
        "id": "gVC_2pMtH9TN",
        "outputId": "904d9bf2-a863-44a7-a0cc-4490e7041e34"
      },
      "execution_count": 7,
      "outputs": [
        {
          "output_type": "stream",
          "name": "stdout",
          "text": [
            "[0, 3, 6, 9, 12, 15, 18, 21, 24, 27, 30, 33, 36, 39, 42, 45, 48, 51, 54, 57, 60, 63, 66, 69, 72, 75, 78, 81, 84, 87, 90, 93, 96, 99]\n"
          ]
        }
      ]
    },
    {
      "cell_type": "code",
      "source": [],
      "metadata": {
        "id": "NdFP_AN2Iu5E"
      },
      "execution_count": null,
      "outputs": []
    },
    {
      "cell_type": "code",
      "source": [
        "evennum = [i for i in range (100)if i % 2 == 0 ]\n",
        "print(evennum)"
      ],
      "metadata": {
        "colab": {
          "base_uri": "https://localhost:8080/"
        },
        "outputId": "b1d432a9-6098-4f93-b397-0f89d9c2cfc1",
        "id": "Bb-HIdXEJLdM"
      },
      "execution_count": 8,
      "outputs": [
        {
          "output_type": "stream",
          "name": "stdout",
          "text": [
            "[0, 2, 4, 6, 8, 10, 12, 14, 16, 18, 20, 22, 24, 26, 28, 30, 32, 34, 36, 38, 40, 42, 44, 46, 48, 50, 52, 54, 56, 58, 60, 62, 64, 66, 68, 70, 72, 74, 76, 78, 80, 82, 84, 86, 88, 90, 92, 94, 96, 98]\n"
          ]
        }
      ]
    },
    {
      "cell_type": "code",
      "source": [
        "fruits= ['banana','fig','kiwi','pineapple', 'watermelon','raseberry']\n",
        "for fruit in fruits :\n",
        "    print (fruit)"
      ],
      "metadata": {
        "colab": {
          "base_uri": "https://localhost:8080/"
        },
        "id": "hlzQ2F6KJW_m",
        "outputId": "109676f3-4af2-4752-b3df-949a7406de3f"
      },
      "execution_count": 13,
      "outputs": [
        {
          "output_type": "stream",
          "name": "stdout",
          "text": [
            "banana\n",
            "fig\n",
            "kiwi\n",
            "pineapple\n",
            "watermelon\n",
            "raseberry\n"
          ]
        }
      ]
    }
  ]
}